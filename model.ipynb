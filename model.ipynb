{
 "cells": [
  {
   "cell_type": "code",
   "execution_count": 25,
   "metadata": {},
   "outputs": [
    {
     "name": "stdout",
     "output_type": "stream",
     "text": [
      "\n",
      "Usage:   \n",
      "  /Users/shlokmathur/anaconda3/bin/python -m pip install [options] <requirement specifier> [package-index-options] ...\n",
      "  /Users/shlokmathur/anaconda3/bin/python -m pip install [options] -r <requirements file> [package-index-options] ...\n",
      "  /Users/shlokmathur/anaconda3/bin/python -m pip install [options] [-e] <vcs project url> ...\n",
      "  /Users/shlokmathur/anaconda3/bin/python -m pip install [options] [-e] <local project path> ...\n",
      "  /Users/shlokmathur/anaconda3/bin/python -m pip install [options] <archive url/path> ...\n",
      "\n",
      "ambiguous option: --ignore (--ignore-installed, --ignore-requires-python?)\n",
      "Note: you may need to restart the kernel to use updated packages.\n"
     ]
    }
   ],
   "source": [
    "pip install tweepy --ignore installed"
   ]
  },
  {
   "cell_type": "code",
   "execution_count": 26,
   "metadata": {},
   "outputs": [
    {
     "name": "stdout",
     "output_type": "stream",
     "text": [
      "Requirement already satisfied: flair in /Users/shlokmathur/anaconda3/lib/python3.10/site-packages (0.12.2)\n",
      "Requirement already satisfied: python-dateutil>=2.6.1 in /Users/shlokmathur/anaconda3/lib/python3.10/site-packages (from flair) (2.8.2)\n",
      "Requirement already satisfied: torch!=1.8,>=1.5.0 in /Users/shlokmathur/anaconda3/lib/python3.10/site-packages (from flair) (2.0.1)\n",
      "Requirement already satisfied: gensim>=3.8.0 in /Users/shlokmathur/anaconda3/lib/python3.10/site-packages (from flair) (4.3.0)\n",
      "Requirement already satisfied: tqdm>=4.26.0 in /Users/shlokmathur/anaconda3/lib/python3.10/site-packages (from flair) (4.64.1)\n",
      "Requirement already satisfied: segtok>=1.5.7 in /Users/shlokmathur/anaconda3/lib/python3.10/site-packages (from flair) (1.5.11)\n",
      "Requirement already satisfied: matplotlib>=2.2.3 in /Users/shlokmathur/anaconda3/lib/python3.10/site-packages (from flair) (3.7.0)\n",
      "Requirement already satisfied: mpld3==0.3 in /Users/shlokmathur/anaconda3/lib/python3.10/site-packages (from flair) (0.3)\n",
      "Requirement already satisfied: scikit-learn>=0.21.3 in /Users/shlokmathur/anaconda3/lib/python3.10/site-packages (from flair) (1.2.1)\n",
      "Requirement already satisfied: sqlitedict>=1.6.0 in /Users/shlokmathur/anaconda3/lib/python3.10/site-packages (from flair) (2.1.0)\n",
      "Requirement already satisfied: deprecated>=1.2.4 in /Users/shlokmathur/anaconda3/lib/python3.10/site-packages (from flair) (1.2.14)\n",
      "Requirement already satisfied: hyperopt>=0.2.7 in /Users/shlokmathur/anaconda3/lib/python3.10/site-packages (from flair) (0.2.7)\n",
      "Requirement already satisfied: boto3 in /Users/shlokmathur/anaconda3/lib/python3.10/site-packages (from flair) (1.28.15)\n",
      "Requirement already satisfied: transformers[sentencepiece]>=4.18.0 in /Users/shlokmathur/anaconda3/lib/python3.10/site-packages (from flair) (4.24.0)\n",
      "Requirement already satisfied: bpemb>=0.3.2 in /Users/shlokmathur/anaconda3/lib/python3.10/site-packages (from flair) (0.3.4)\n",
      "Requirement already satisfied: regex in /Users/shlokmathur/anaconda3/lib/python3.10/site-packages (from flair) (2022.7.9)\n",
      "Requirement already satisfied: tabulate in /Users/shlokmathur/anaconda3/lib/python3.10/site-packages (from flair) (0.8.10)\n",
      "Requirement already satisfied: langdetect in /Users/shlokmathur/anaconda3/lib/python3.10/site-packages (from flair) (1.0.9)\n",
      "Requirement already satisfied: lxml in /Users/shlokmathur/anaconda3/lib/python3.10/site-packages (from flair) (4.9.1)\n",
      "Requirement already satisfied: ftfy in /Users/shlokmathur/anaconda3/lib/python3.10/site-packages (from flair) (6.1.1)\n",
      "Requirement already satisfied: janome in /Users/shlokmathur/anaconda3/lib/python3.10/site-packages (from flair) (0.5.0)\n",
      "Requirement already satisfied: gdown==4.4.0 in /Users/shlokmathur/anaconda3/lib/python3.10/site-packages (from flair) (4.4.0)\n",
      "Requirement already satisfied: huggingface-hub>=0.10.0 in /Users/shlokmathur/anaconda3/lib/python3.10/site-packages (from flair) (0.16.4)\n",
      "Requirement already satisfied: conllu>=4.0 in /Users/shlokmathur/anaconda3/lib/python3.10/site-packages (from flair) (4.5.3)\n",
      "Requirement already satisfied: more-itertools in /Users/shlokmathur/anaconda3/lib/python3.10/site-packages (from flair) (10.0.0)\n",
      "Requirement already satisfied: wikipedia-api in /Users/shlokmathur/anaconda3/lib/python3.10/site-packages (from flair) (0.6.0)\n",
      "Requirement already satisfied: pptree in /Users/shlokmathur/anaconda3/lib/python3.10/site-packages (from flair) (3.1)\n",
      "Requirement already satisfied: pytorch-revgrad in /Users/shlokmathur/anaconda3/lib/python3.10/site-packages (from flair) (0.2.0)\n",
      "Requirement already satisfied: transformer-smaller-training-vocab>=0.2.1 in /Users/shlokmathur/anaconda3/lib/python3.10/site-packages (from flair) (0.2.4)\n",
      "Requirement already satisfied: filelock in /Users/shlokmathur/anaconda3/lib/python3.10/site-packages (from gdown==4.4.0->flair) (3.9.0)\n",
      "Requirement already satisfied: requests[socks] in /Users/shlokmathur/anaconda3/lib/python3.10/site-packages (from gdown==4.4.0->flair) (2.31.0)\n",
      "Requirement already satisfied: six in /Users/shlokmathur/anaconda3/lib/python3.10/site-packages (from gdown==4.4.0->flair) (1.16.0)\n",
      "Requirement already satisfied: beautifulsoup4 in /Users/shlokmathur/anaconda3/lib/python3.10/site-packages (from gdown==4.4.0->flair) (4.11.1)\n",
      "Requirement already satisfied: numpy in /Users/shlokmathur/anaconda3/lib/python3.10/site-packages (from bpemb>=0.3.2->flair) (1.23.5)\n",
      "Requirement already satisfied: sentencepiece in /Users/shlokmathur/anaconda3/lib/python3.10/site-packages (from bpemb>=0.3.2->flair) (0.1.99)\n",
      "Requirement already satisfied: wrapt<2,>=1.10 in /Users/shlokmathur/anaconda3/lib/python3.10/site-packages (from deprecated>=1.2.4->flair) (1.14.1)\n",
      "Requirement already satisfied: scipy>=1.7.0 in /Users/shlokmathur/anaconda3/lib/python3.10/site-packages (from gensim>=3.8.0->flair) (1.10.0)\n",
      "Requirement already satisfied: smart-open>=1.8.1 in /Users/shlokmathur/anaconda3/lib/python3.10/site-packages (from gensim>=3.8.0->flair) (5.2.1)\n",
      "Requirement already satisfied: FuzzyTM>=0.4.0 in /Users/shlokmathur/anaconda3/lib/python3.10/site-packages (from gensim>=3.8.0->flair) (2.0.5)\n",
      "Requirement already satisfied: fsspec in /Users/shlokmathur/anaconda3/lib/python3.10/site-packages (from huggingface-hub>=0.10.0->flair) (2022.11.0)\n",
      "Requirement already satisfied: pyyaml>=5.1 in /Users/shlokmathur/anaconda3/lib/python3.10/site-packages (from huggingface-hub>=0.10.0->flair) (6.0.1)\n",
      "Requirement already satisfied: typing-extensions>=3.7.4.3 in /Users/shlokmathur/anaconda3/lib/python3.10/site-packages (from huggingface-hub>=0.10.0->flair) (4.4.0)\n",
      "Requirement already satisfied: packaging>=20.9 in /Users/shlokmathur/anaconda3/lib/python3.10/site-packages (from huggingface-hub>=0.10.0->flair) (22.0)\n",
      "Requirement already satisfied: networkx>=2.2 in /Users/shlokmathur/anaconda3/lib/python3.10/site-packages (from hyperopt>=0.2.7->flair) (2.8.4)\n",
      "Requirement already satisfied: future in /Users/shlokmathur/anaconda3/lib/python3.10/site-packages (from hyperopt>=0.2.7->flair) (0.18.3)\n",
      "Requirement already satisfied: cloudpickle in /Users/shlokmathur/anaconda3/lib/python3.10/site-packages (from hyperopt>=0.2.7->flair) (2.0.0)\n",
      "Requirement already satisfied: py4j in /Users/shlokmathur/anaconda3/lib/python3.10/site-packages (from hyperopt>=0.2.7->flair) (0.10.9.7)\n",
      "Requirement already satisfied: contourpy>=1.0.1 in /Users/shlokmathur/anaconda3/lib/python3.10/site-packages (from matplotlib>=2.2.3->flair) (1.0.5)\n",
      "Requirement already satisfied: cycler>=0.10 in /Users/shlokmathur/anaconda3/lib/python3.10/site-packages (from matplotlib>=2.2.3->flair) (0.11.0)\n",
      "Requirement already satisfied: fonttools>=4.22.0 in /Users/shlokmathur/anaconda3/lib/python3.10/site-packages (from matplotlib>=2.2.3->flair) (4.25.0)\n",
      "Requirement already satisfied: kiwisolver>=1.0.1 in /Users/shlokmathur/anaconda3/lib/python3.10/site-packages (from matplotlib>=2.2.3->flair) (1.4.4)\n",
      "Requirement already satisfied: pillow>=6.2.0 in /Users/shlokmathur/anaconda3/lib/python3.10/site-packages (from matplotlib>=2.2.3->flair) (9.4.0)\n",
      "Requirement already satisfied: pyparsing>=2.3.1 in /Users/shlokmathur/anaconda3/lib/python3.10/site-packages (from matplotlib>=2.2.3->flair) (3.0.9)\n",
      "Requirement already satisfied: joblib>=1.1.1 in /Users/shlokmathur/anaconda3/lib/python3.10/site-packages (from scikit-learn>=0.21.3->flair) (1.1.1)\n",
      "Requirement already satisfied: threadpoolctl>=2.0.0 in /Users/shlokmathur/anaconda3/lib/python3.10/site-packages (from scikit-learn>=0.21.3->flair) (2.2.0)\n",
      "Requirement already satisfied: sympy in /Users/shlokmathur/anaconda3/lib/python3.10/site-packages (from torch!=1.8,>=1.5.0->flair) (1.11.1)\n",
      "Requirement already satisfied: jinja2 in /Users/shlokmathur/anaconda3/lib/python3.10/site-packages (from torch!=1.8,>=1.5.0->flair) (3.1.2)\n",
      "Requirement already satisfied: datasets<3.0.0,>=2.0.0 in /Users/shlokmathur/anaconda3/lib/python3.10/site-packages (from transformer-smaller-training-vocab>=0.2.1->flair) (2.14.1)\n",
      "Requirement already satisfied: tokenizers!=0.11.3,<0.14,>=0.11.1 in /Users/shlokmathur/anaconda3/lib/python3.10/site-packages (from transformers[sentencepiece]>=4.18.0->flair) (0.11.4)\n",
      "Requirement already satisfied: protobuf<=3.20.2 in /Users/shlokmathur/anaconda3/lib/python3.10/site-packages (from transformers[sentencepiece]>=4.18.0->flair) (3.20.2)\n",
      "Requirement already satisfied: botocore<1.32.0,>=1.31.15 in /Users/shlokmathur/anaconda3/lib/python3.10/site-packages (from boto3->flair) (1.31.15)\n",
      "Requirement already satisfied: jmespath<2.0.0,>=0.7.1 in /Users/shlokmathur/anaconda3/lib/python3.10/site-packages (from boto3->flair) (0.10.0)\n",
      "Requirement already satisfied: s3transfer<0.7.0,>=0.6.0 in /Users/shlokmathur/anaconda3/lib/python3.10/site-packages (from boto3->flair) (0.6.1)\n",
      "Requirement already satisfied: wcwidth>=0.2.5 in /Users/shlokmathur/anaconda3/lib/python3.10/site-packages (from ftfy->flair) (0.2.5)\n",
      "Requirement already satisfied: urllib3<1.27,>=1.25.4 in /Users/shlokmathur/anaconda3/lib/python3.10/site-packages (from botocore<1.32.0,>=1.31.15->boto3->flair) (1.26.14)\n",
      "Requirement already satisfied: pyarrow>=8.0.0 in /Users/shlokmathur/anaconda3/lib/python3.10/site-packages (from datasets<3.0.0,>=2.0.0->transformer-smaller-training-vocab>=0.2.1->flair) (12.0.1)\n",
      "Requirement already satisfied: dill<0.3.8,>=0.3.0 in /Users/shlokmathur/anaconda3/lib/python3.10/site-packages (from datasets<3.0.0,>=2.0.0->transformer-smaller-training-vocab>=0.2.1->flair) (0.3.7)\n",
      "Requirement already satisfied: pandas in /Users/shlokmathur/anaconda3/lib/python3.10/site-packages (from datasets<3.0.0,>=2.0.0->transformer-smaller-training-vocab>=0.2.1->flair) (1.5.3)\n",
      "Requirement already satisfied: xxhash in /Users/shlokmathur/anaconda3/lib/python3.10/site-packages (from datasets<3.0.0,>=2.0.0->transformer-smaller-training-vocab>=0.2.1->flair) (3.3.0)\n",
      "Requirement already satisfied: multiprocess in /Users/shlokmathur/anaconda3/lib/python3.10/site-packages (from datasets<3.0.0,>=2.0.0->transformer-smaller-training-vocab>=0.2.1->flair) (0.70.15)\n",
      "Requirement already satisfied: aiohttp in /Users/shlokmathur/anaconda3/lib/python3.10/site-packages (from datasets<3.0.0,>=2.0.0->transformer-smaller-training-vocab>=0.2.1->flair) (3.8.5)\n",
      "Requirement already satisfied: pyfume in /Users/shlokmathur/anaconda3/lib/python3.10/site-packages (from FuzzyTM>=0.4.0->gensim>=3.8.0->flair) (0.2.25)\n",
      "Requirement already satisfied: charset-normalizer<4,>=2 in /Users/shlokmathur/anaconda3/lib/python3.10/site-packages (from requests[socks]->gdown==4.4.0->flair) (2.0.4)\n",
      "Requirement already satisfied: idna<4,>=2.5 in /Users/shlokmathur/anaconda3/lib/python3.10/site-packages (from requests[socks]->gdown==4.4.0->flair) (3.4)\n",
      "Requirement already satisfied: certifi>=2017.4.17 in /Users/shlokmathur/anaconda3/lib/python3.10/site-packages (from requests[socks]->gdown==4.4.0->flair) (2022.12.7)\n",
      "Requirement already satisfied: soupsieve>1.2 in /Users/shlokmathur/anaconda3/lib/python3.10/site-packages (from beautifulsoup4->gdown==4.4.0->flair) (2.3.2.post1)\n",
      "Requirement already satisfied: MarkupSafe>=2.0 in /Users/shlokmathur/anaconda3/lib/python3.10/site-packages (from jinja2->torch!=1.8,>=1.5.0->flair) (2.1.1)\n",
      "Requirement already satisfied: PySocks!=1.5.7,>=1.5.6 in /Users/shlokmathur/anaconda3/lib/python3.10/site-packages (from requests[socks]->gdown==4.4.0->flair) (1.7.1)\n",
      "Requirement already satisfied: mpmath>=0.19 in /Users/shlokmathur/anaconda3/lib/python3.10/site-packages/mpmath-1.2.1-py3.10.egg (from sympy->torch!=1.8,>=1.5.0->flair) (1.2.1)\n",
      "Requirement already satisfied: attrs>=17.3.0 in /Users/shlokmathur/anaconda3/lib/python3.10/site-packages (from aiohttp->datasets<3.0.0,>=2.0.0->transformer-smaller-training-vocab>=0.2.1->flair) (22.1.0)\n",
      "Requirement already satisfied: multidict<7.0,>=4.5 in /Users/shlokmathur/anaconda3/lib/python3.10/site-packages (from aiohttp->datasets<3.0.0,>=2.0.0->transformer-smaller-training-vocab>=0.2.1->flair) (6.0.4)\n",
      "Requirement already satisfied: async-timeout<5.0,>=4.0.0a3 in /Users/shlokmathur/anaconda3/lib/python3.10/site-packages (from aiohttp->datasets<3.0.0,>=2.0.0->transformer-smaller-training-vocab>=0.2.1->flair) (4.0.2)\n",
      "Requirement already satisfied: yarl<2.0,>=1.0 in /Users/shlokmathur/anaconda3/lib/python3.10/site-packages (from aiohttp->datasets<3.0.0,>=2.0.0->transformer-smaller-training-vocab>=0.2.1->flair) (1.9.2)\n",
      "Requirement already satisfied: frozenlist>=1.1.1 in /Users/shlokmathur/anaconda3/lib/python3.10/site-packages (from aiohttp->datasets<3.0.0,>=2.0.0->transformer-smaller-training-vocab>=0.2.1->flair) (1.4.0)\n",
      "Requirement already satisfied: aiosignal>=1.1.2 in /Users/shlokmathur/anaconda3/lib/python3.10/site-packages (from aiohttp->datasets<3.0.0,>=2.0.0->transformer-smaller-training-vocab>=0.2.1->flair) (1.3.1)\n",
      "Requirement already satisfied: pytz>=2020.1 in /Users/shlokmathur/anaconda3/lib/python3.10/site-packages (from pandas->datasets<3.0.0,>=2.0.0->transformer-smaller-training-vocab>=0.2.1->flair) (2022.7)\n",
      "Requirement already satisfied: simpful in /Users/shlokmathur/anaconda3/lib/python3.10/site-packages (from pyfume->FuzzyTM>=0.4.0->gensim>=3.8.0->flair) (2.11.0)\n",
      "Requirement already satisfied: fst-pso in /Users/shlokmathur/anaconda3/lib/python3.10/site-packages (from pyfume->FuzzyTM>=0.4.0->gensim>=3.8.0->flair) (1.8.1)\n",
      "Requirement already satisfied: miniful in /Users/shlokmathur/anaconda3/lib/python3.10/site-packages (from fst-pso->pyfume->FuzzyTM>=0.4.0->gensim>=3.8.0->flair) (0.0.6)\n",
      "Note: you may need to restart the kernel to use updated packages.\n"
     ]
    }
   ],
   "source": [
    "pip install flair"
   ]
  },
  {
   "cell_type": "code",
   "execution_count": 27,
   "metadata": {},
   "outputs": [],
   "source": [
    "#1sazIwwteyCOiXbw2AS4mIAYS   api key\n",
    "\n",
    "#g6P3VvIuKpQRZQ2QGqcgC6MQpEIZQk0Yyb0RNwCoG6PjXMsZK0 api key secret\n",
    "\n",
    "#AAAAAAAAAAAAAAAAAAAAABB1pAEAAAAAtCibryyjb9kiKMFEn7dURAdWbas%3DvYL6ce6cajGpU7pI9x4OyhNQDRf9nQe13vt3HjJJZRdM9rbNr2 bearer token\n",
    "\n",
    "#1551692802928840709-DFQ2T07EvOAmY6bLRkn91kHOQD9whg access token\n",
    "\n",
    "#0m86Y4hkhRaqvtokTgzaKXClfdbi0XT1rWA5txDKNVuOc access token secret"
   ]
  },
  {
   "attachments": {},
   "cell_type": "markdown",
   "metadata": {},
   "source": [
    "## Configuration\n"
   ]
  },
  {
   "cell_type": "code",
   "execution_count": 28,
   "metadata": {},
   "outputs": [],
   "source": [
    "bearer =  \"AAAAAAAAAAAAAAAAAAAAABB1pAEAAAAAtCibryyjb9kiKMFEn7dURAdWbas%3DvYL6ce6cajGpU7pI9x4OyhNQDRf9nQe13vt3HjJJZRdM9rbNr2\"\n",
    "consumer_key = \"ouj9hPM4O6IXgB1GqZ2g0vN35\"\n",
    "consumer_key_secret = \"f11wfLHWfgzHmpTrurVy5TYOi0OiPtgjbcLFjfWIvCfODJDNyg\"\n",
    "access_token = \"1551692802928840709-DFQ2T07EvOAmY6bLRkn91kHOQD9whg\"\n",
    "access_token_secret = \"0m86Y4hkhRaqvtokTgzaKXClfdbi0XT1rWA5txDKNVuOc\"\n"
   ]
  },
  {
   "attachments": {},
   "cell_type": "markdown",
   "metadata": {},
   "source": [
    "## Import Modules\n",
    "\n",
    "\n"
   ]
  },
  {
   "cell_type": "code",
   "execution_count": 29,
   "metadata": {},
   "outputs": [],
   "source": [
    "import tweepy\n",
    "import re\n",
    "import time\n",
    "from flair.models import TextClassifier\n",
    "from flair.data import Sentence\n",
    "from flask import request"
   ]
  },
  {
   "attachments": {},
   "cell_type": "markdown",
   "metadata": {},
   "source": [
    "## Initilize\n"
   ]
  },
  {
   "cell_type": "code",
   "execution_count": 30,
   "metadata": {},
   "outputs": [
    {
     "data": {
      "text/plain": [
       "Response(data=<User id=1551692802928840709 name=Shlok Mathur username=ShlokMathur4>, includes={}, errors=[], meta={})"
      ]
     },
     "execution_count": 30,
     "metadata": {},
     "output_type": "execute_result"
    }
   ],
   "source": [
    "api = tweepy.Client(bearer, consumer_key, consumer_key_secret, access_token, access_token_secret)\n",
    "api.get_me()\n",
    "\n",
    "#api = tweepy.Client(bearer, consumer_key, consumer_key, consumer_key_secret, access_token, access_token_secret)"
   ]
  },
  {
   "cell_type": "code",
   "execution_count": 31,
   "metadata": {},
   "outputs": [
    {
     "ename": "Forbidden",
     "evalue": "403 Forbidden\nWhen authenticating requests to the Twitter API v2 endpoints, you must use keys and tokens from a Twitter developer App that is attached to a Project. You can create a project via the developer portal.",
     "output_type": "error",
     "traceback": [
      "\u001b[0;31m---------------------------------------------------------------------------\u001b[0m",
      "\u001b[0;31mForbidden\u001b[0m                                 Traceback (most recent call last)",
      "Cell \u001b[0;32mIn[31], line 1\u001b[0m\n\u001b[0;32m----> 1\u001b[0m response \u001b[39m=\u001b[39m api\u001b[39m.\u001b[39;49msearch_recent_tweets(\u001b[39m'\u001b[39;49m\u001b[39m#crypto\u001b[39;49m\u001b[39m'\u001b[39;49m)\n\u001b[1;32m      3\u001b[0m tweeets \u001b[39m=\u001b[39m response\u001b[39m.\u001b[39mdata\n\u001b[1;32m      4\u001b[0m \u001b[39mfor\u001b[39;00m tweet \u001b[39min\u001b[39;00m tweets:\n",
      "File \u001b[0;32m~/anaconda3/lib/python3.10/site-packages/tweepy/client.py:1266\u001b[0m, in \u001b[0;36mClient.search_recent_tweets\u001b[0;34m(self, query, user_auth, **params)\u001b[0m\n\u001b[1;32m   1174\u001b[0m \u001b[39m\u001b[39m\u001b[39m\"\"\"search_recent_tweets( \\\u001b[39;00m\n\u001b[1;32m   1175\u001b[0m \u001b[39m    query, *, end_time=None, expansions=None, max_results=None, \\\u001b[39;00m\n\u001b[1;32m   1176\u001b[0m \u001b[39m    media_fields=None, next_token=None, place_fields=None, \\\u001b[39;00m\n\u001b[0;32m   (...)\u001b[0m\n\u001b[1;32m   1263\u001b[0m \u001b[39m.. _Academic Research Project: https://developer.twitter.com/en/docs/projects\u001b[39;00m\n\u001b[1;32m   1264\u001b[0m \u001b[39m\"\"\"\u001b[39;00m\n\u001b[1;32m   1265\u001b[0m params[\u001b[39m\"\u001b[39m\u001b[39mquery\u001b[39m\u001b[39m\"\u001b[39m] \u001b[39m=\u001b[39m query\n\u001b[0;32m-> 1266\u001b[0m \u001b[39mreturn\u001b[39;00m \u001b[39mself\u001b[39;49m\u001b[39m.\u001b[39;49m_make_request(\n\u001b[1;32m   1267\u001b[0m     \u001b[39m\"\u001b[39;49m\u001b[39mGET\u001b[39;49m\u001b[39m\"\u001b[39;49m, \u001b[39m\"\u001b[39;49m\u001b[39m/2/tweets/search/recent\u001b[39;49m\u001b[39m\"\u001b[39;49m, params\u001b[39m=\u001b[39;49mparams,\n\u001b[1;32m   1268\u001b[0m     endpoint_parameters\u001b[39m=\u001b[39;49m(\n\u001b[1;32m   1269\u001b[0m         \u001b[39m\"\u001b[39;49m\u001b[39mend_time\u001b[39;49m\u001b[39m\"\u001b[39;49m, \u001b[39m\"\u001b[39;49m\u001b[39mexpansions\u001b[39;49m\u001b[39m\"\u001b[39;49m, \u001b[39m\"\u001b[39;49m\u001b[39mmax_results\u001b[39;49m\u001b[39m\"\u001b[39;49m, \u001b[39m\"\u001b[39;49m\u001b[39mmedia.fields\u001b[39;49m\u001b[39m\"\u001b[39;49m,\n\u001b[1;32m   1270\u001b[0m         \u001b[39m\"\u001b[39;49m\u001b[39mnext_token\u001b[39;49m\u001b[39m\"\u001b[39;49m, \u001b[39m\"\u001b[39;49m\u001b[39mplace.fields\u001b[39;49m\u001b[39m\"\u001b[39;49m, \u001b[39m\"\u001b[39;49m\u001b[39mpoll.fields\u001b[39;49m\u001b[39m\"\u001b[39;49m, \u001b[39m\"\u001b[39;49m\u001b[39mquery\u001b[39;49m\u001b[39m\"\u001b[39;49m,\n\u001b[1;32m   1271\u001b[0m         \u001b[39m\"\u001b[39;49m\u001b[39msince_id\u001b[39;49m\u001b[39m\"\u001b[39;49m, \u001b[39m\"\u001b[39;49m\u001b[39msort_order\u001b[39;49m\u001b[39m\"\u001b[39;49m, \u001b[39m\"\u001b[39;49m\u001b[39mstart_time\u001b[39;49m\u001b[39m\"\u001b[39;49m, \u001b[39m\"\u001b[39;49m\u001b[39mtweet.fields\u001b[39;49m\u001b[39m\"\u001b[39;49m,\n\u001b[1;32m   1272\u001b[0m         \u001b[39m\"\u001b[39;49m\u001b[39muntil_id\u001b[39;49m\u001b[39m\"\u001b[39;49m, \u001b[39m\"\u001b[39;49m\u001b[39muser.fields\u001b[39;49m\u001b[39m\"\u001b[39;49m\n\u001b[1;32m   1273\u001b[0m     ), data_type\u001b[39m=\u001b[39;49mTweet, user_auth\u001b[39m=\u001b[39;49muser_auth\n\u001b[1;32m   1274\u001b[0m )\n",
      "File \u001b[0;32m~/anaconda3/lib/python3.10/site-packages/tweepy/client.py:129\u001b[0m, in \u001b[0;36mBaseClient._make_request\u001b[0;34m(self, method, route, params, endpoint_parameters, json, data_type, user_auth)\u001b[0m\n\u001b[1;32m    123\u001b[0m \u001b[39mdef\u001b[39;00m \u001b[39m_make_request\u001b[39m(\n\u001b[1;32m    124\u001b[0m     \u001b[39mself\u001b[39m, method, route, params\u001b[39m=\u001b[39m{}, endpoint_parameters\u001b[39m=\u001b[39m(), json\u001b[39m=\u001b[39m\u001b[39mNone\u001b[39;00m,\n\u001b[1;32m    125\u001b[0m     data_type\u001b[39m=\u001b[39m\u001b[39mNone\u001b[39;00m, user_auth\u001b[39m=\u001b[39m\u001b[39mFalse\u001b[39;00m\n\u001b[1;32m    126\u001b[0m ):\n\u001b[1;32m    127\u001b[0m     request_params \u001b[39m=\u001b[39m \u001b[39mself\u001b[39m\u001b[39m.\u001b[39m_process_params(params, endpoint_parameters)\n\u001b[0;32m--> 129\u001b[0m     response \u001b[39m=\u001b[39m \u001b[39mself\u001b[39;49m\u001b[39m.\u001b[39;49mrequest(method, route, params\u001b[39m=\u001b[39;49mrequest_params,\n\u001b[1;32m    130\u001b[0m                             json\u001b[39m=\u001b[39;49mjson, user_auth\u001b[39m=\u001b[39;49muser_auth)\n\u001b[1;32m    132\u001b[0m     \u001b[39mif\u001b[39;00m \u001b[39mself\u001b[39m\u001b[39m.\u001b[39mreturn_type \u001b[39mis\u001b[39;00m requests\u001b[39m.\u001b[39mResponse:\n\u001b[1;32m    133\u001b[0m         \u001b[39mreturn\u001b[39;00m response\n",
      "File \u001b[0;32m~/anaconda3/lib/python3.10/site-packages/tweepy/client.py:100\u001b[0m, in \u001b[0;36mBaseClient.request\u001b[0;34m(self, method, route, params, json, user_auth)\u001b[0m\n\u001b[1;32m     98\u001b[0m     \u001b[39mraise\u001b[39;00m Unauthorized(response)\n\u001b[1;32m     99\u001b[0m \u001b[39mif\u001b[39;00m response\u001b[39m.\u001b[39mstatus_code \u001b[39m==\u001b[39m \u001b[39m403\u001b[39m:\n\u001b[0;32m--> 100\u001b[0m     \u001b[39mraise\u001b[39;00m Forbidden(response)\n\u001b[1;32m    101\u001b[0m \u001b[39mif\u001b[39;00m response\u001b[39m.\u001b[39mstatus_code \u001b[39m==\u001b[39m \u001b[39m404\u001b[39m:\n\u001b[1;32m    102\u001b[0m     \u001b[39mraise\u001b[39;00m NotFound(response)\n",
      "\u001b[0;31mForbidden\u001b[0m: 403 Forbidden\nWhen authenticating requests to the Twitter API v2 endpoints, you must use keys and tokens from a Twitter developer App that is attached to a Project. You can create a project via the developer portal."
     ]
    }
   ],
   "source": [
    "response = api.search_recent_tweets('#crypto')\n",
    "\n",
    "tweeets = response.data\n",
    "for tweet in tweets:\n",
    "    print(tweet.text)\n",
    "    print('------------------------------------------------')"
   ]
  },
  {
   "cell_type": "code",
   "execution_count": null,
   "metadata": {},
   "outputs": [],
   "source": [
    "def preprocess_text (text):\n",
    "# convert to lower case\n",
    "   text = text.lower ()\n",
    "# remove user handle\n",
    "   text = re.sub(\"@[ \\w]*\",\"\", text)\n",
    "# remove http links\n",
    "   text = re.sub(\"http\\S+\", \"\", text)\n",
    "# remove digits and special characters\n",
    "   text = re.sub(\"[^a-zA-Z#]\",\" \", text)\n",
    "#remove rt characters\n",
    "   text = re.sub(\"rt\", \"\", text)\n",
    "#remove additional spaces \n",
    "   text = re.sub(\"\\s+\", \" \", text)\n",
    "   \n",
    "   return text\n",
    "   "
   ]
  },
  {
   "cell_type": "code",
   "execution_count": null,
   "metadata": {},
   "outputs": [
    {
     "ename": "NameError",
     "evalue": "name 'tweet' is not defined",
     "output_type": "error",
     "traceback": [
      "\u001b[0;31m---------------------------------------------------------------------------\u001b[0m",
      "\u001b[0;31mNameError\u001b[0m                                 Traceback (most recent call last)",
      "Cell \u001b[0;32mIn[19], line 1\u001b[0m\n\u001b[0;32m----> 1\u001b[0m tweet\u001b[39m.\u001b[39mtext\n",
      "\u001b[0;31mNameError\u001b[0m: name 'tweet' is not defined"
     ]
    }
   ],
   "source": [
    "tweet.text"
   ]
  },
  {
   "cell_type": "code",
   "execution_count": null,
   "metadata": {},
   "outputs": [
    {
     "ename": "NameError",
     "evalue": "name 'tweet' is not defined",
     "output_type": "error",
     "traceback": [
      "\u001b[0;31m---------------------------------------------------------------------------\u001b[0m",
      "\u001b[0;31mNameError\u001b[0m                                 Traceback (most recent call last)",
      "Cell \u001b[0;32mIn[21], line 1\u001b[0m\n\u001b[0;32m----> 1\u001b[0m preprocess_text(tweet\u001b[39m.\u001b[39mtext)\n",
      "\u001b[0;31mNameError\u001b[0m: name 'tweet' is not defined"
     ]
    }
   ],
   "source": [
    "preprocess_text(tweet.text)"
   ]
  },
  {
   "attachments": {},
   "cell_type": "markdown",
   "metadata": {},
   "source": [
    "## Create Sentiment Analysis Function"
   ]
  },
  {
   "cell_type": "code",
   "execution_count": null,
   "metadata": {},
   "outputs": [
    {
     "ename": "FileNotFoundError",
     "evalue": "[Errno 2] No such file or directory: 'en-sentiments'",
     "output_type": "error",
     "traceback": [
      "\u001b[0;31m---------------------------------------------------------------------------\u001b[0m",
      "\u001b[0;31mFileNotFoundError\u001b[0m                         Traceback (most recent call last)",
      "Cell \u001b[0;32mIn[22], line 1\u001b[0m\n\u001b[0;32m----> 1\u001b[0m classifier \u001b[39m=\u001b[39m TextClassifier\u001b[39m.\u001b[39;49mload(\u001b[39m'\u001b[39;49m\u001b[39men-sentiments\u001b[39;49m\u001b[39m'\u001b[39;49m)\n\u001b[1;32m      2\u001b[0m \u001b[39mdef\u001b[39;00m \u001b[39mget_sentiment\u001b[39m(tweet):\n\u001b[1;32m      3\u001b[0m     sentence \u001b[39m=\u001b[39m Sentence(tweet)\n",
      "File \u001b[0;32m~/anaconda3/lib/python3.10/site-packages/flair/models/text_classification_model.py:137\u001b[0m, in \u001b[0;36mTextClassifier.load\u001b[0;34m(cls, model_path)\u001b[0m\n\u001b[1;32m    133\u001b[0m \u001b[39m@classmethod\u001b[39m\n\u001b[1;32m    134\u001b[0m \u001b[39mdef\u001b[39;00m \u001b[39mload\u001b[39m(\u001b[39mcls\u001b[39m, model_path: Union[\u001b[39mstr\u001b[39m, Path, Dict[\u001b[39mstr\u001b[39m, Any]]) \u001b[39m-\u001b[39m\u001b[39m>\u001b[39m \u001b[39m\"\u001b[39m\u001b[39mTextClassifier\u001b[39m\u001b[39m\"\u001b[39m:\n\u001b[1;32m    135\u001b[0m     \u001b[39mfrom\u001b[39;00m \u001b[39mtyping\u001b[39;00m \u001b[39mimport\u001b[39;00m cast\n\u001b[0;32m--> 137\u001b[0m     \u001b[39mreturn\u001b[39;00m cast(\u001b[39m\"\u001b[39m\u001b[39mTextClassifier\u001b[39m\u001b[39m\"\u001b[39m, \u001b[39msuper\u001b[39;49m()\u001b[39m.\u001b[39;49mload(model_path\u001b[39m=\u001b[39;49mmodel_path))\n",
      "File \u001b[0;32m~/anaconda3/lib/python3.10/site-packages/flair/nn/model.py:944\u001b[0m, in \u001b[0;36mDefaultClassifier.load\u001b[0;34m(cls, model_path)\u001b[0m\n\u001b[1;32m    940\u001b[0m \u001b[39m@classmethod\u001b[39m\n\u001b[1;32m    941\u001b[0m \u001b[39mdef\u001b[39;00m \u001b[39mload\u001b[39m(\u001b[39mcls\u001b[39m, model_path: Union[\u001b[39mstr\u001b[39m, Path, Dict[\u001b[39mstr\u001b[39m, Any]]) \u001b[39m-\u001b[39m\u001b[39m>\u001b[39m \u001b[39m\"\u001b[39m\u001b[39mDefaultClassifier\u001b[39m\u001b[39m\"\u001b[39m:\n\u001b[1;32m    942\u001b[0m     \u001b[39mfrom\u001b[39;00m \u001b[39mtyping\u001b[39;00m \u001b[39mimport\u001b[39;00m cast\n\u001b[0;32m--> 944\u001b[0m     \u001b[39mreturn\u001b[39;00m cast(\u001b[39m\"\u001b[39m\u001b[39mDefaultClassifier\u001b[39m\u001b[39m\"\u001b[39m, \u001b[39msuper\u001b[39;49m()\u001b[39m.\u001b[39;49mload(model_path\u001b[39m=\u001b[39;49mmodel_path))\n",
      "File \u001b[0;32m~/anaconda3/lib/python3.10/site-packages/flair/nn/model.py:559\u001b[0m, in \u001b[0;36mClassifier.load\u001b[0;34m(cls, model_path)\u001b[0m\n\u001b[1;32m    555\u001b[0m \u001b[39m@classmethod\u001b[39m\n\u001b[1;32m    556\u001b[0m \u001b[39mdef\u001b[39;00m \u001b[39mload\u001b[39m(\u001b[39mcls\u001b[39m, model_path: Union[\u001b[39mstr\u001b[39m, Path, Dict[\u001b[39mstr\u001b[39m, Any]]) \u001b[39m-\u001b[39m\u001b[39m>\u001b[39m \u001b[39m\"\u001b[39m\u001b[39mClassifier\u001b[39m\u001b[39m\"\u001b[39m:\n\u001b[1;32m    557\u001b[0m     \u001b[39mfrom\u001b[39;00m \u001b[39mtyping\u001b[39;00m \u001b[39mimport\u001b[39;00m cast\n\u001b[0;32m--> 559\u001b[0m     \u001b[39mreturn\u001b[39;00m cast(\u001b[39m\"\u001b[39m\u001b[39mClassifier\u001b[39m\u001b[39m\"\u001b[39m, \u001b[39msuper\u001b[39;49m()\u001b[39m.\u001b[39;49mload(model_path\u001b[39m=\u001b[39;49mmodel_path))\n",
      "File \u001b[0;32m~/anaconda3/lib/python3.10/site-packages/flair/nn/model.py:191\u001b[0m, in \u001b[0;36mModel.load\u001b[0;34m(cls, model_path)\u001b[0m\n\u001b[1;32m    189\u001b[0m \u001b[39mif\u001b[39;00m \u001b[39mnot\u001b[39;00m \u001b[39misinstance\u001b[39m(model_path, \u001b[39mdict\u001b[39m):\n\u001b[1;32m    190\u001b[0m     model_file \u001b[39m=\u001b[39m \u001b[39mcls\u001b[39m\u001b[39m.\u001b[39m_fetch_model(\u001b[39mstr\u001b[39m(model_path))\n\u001b[0;32m--> 191\u001b[0m     state \u001b[39m=\u001b[39m load_torch_state(model_file)\n\u001b[1;32m    192\u001b[0m \u001b[39melse\u001b[39;00m:\n\u001b[1;32m    193\u001b[0m     state \u001b[39m=\u001b[39m model_path\n",
      "File \u001b[0;32m~/anaconda3/lib/python3.10/site-packages/flair/file_utils.py:358\u001b[0m, in \u001b[0;36mload_torch_state\u001b[0;34m(model_file)\u001b[0m\n\u001b[1;32m    354\u001b[0m warnings\u001b[39m.\u001b[39mfilterwarnings(\u001b[39m\"\u001b[39m\u001b[39mignore\u001b[39m\u001b[39m\"\u001b[39m)\n\u001b[1;32m    355\u001b[0m \u001b[39m# load_big_file is a workaround byhttps://github.com/highway11git\u001b[39;00m\n\u001b[1;32m    356\u001b[0m \u001b[39m# to load models on some Mac/Windows setups\u001b[39;00m\n\u001b[1;32m    357\u001b[0m \u001b[39m# see https://github.com/zalandoresearch/flair/issues/351\u001b[39;00m\n\u001b[0;32m--> 358\u001b[0m f \u001b[39m=\u001b[39m load_big_file(model_file)\n\u001b[1;32m    359\u001b[0m \u001b[39mreturn\u001b[39;00m torch\u001b[39m.\u001b[39mload(f, map_location\u001b[39m=\u001b[39m\u001b[39m\"\u001b[39m\u001b[39mcpu\u001b[39m\u001b[39m\"\u001b[39m)\n",
      "File \u001b[0;32m~/anaconda3/lib/python3.10/site-packages/flair/file_utils.py:50\u001b[0m, in \u001b[0;36mload_big_file\u001b[0;34m(f)\u001b[0m\n\u001b[1;32m     44\u001b[0m \u001b[39mdef\u001b[39;00m \u001b[39mload_big_file\u001b[39m(f: \u001b[39mstr\u001b[39m):\n\u001b[1;32m     45\u001b[0m \u001b[39m    \u001b[39m\u001b[39m\"\"\"\u001b[39;00m\n\u001b[1;32m     46\u001b[0m \u001b[39m    Workaround for loading a big pickle file. Files over 2GB cause pickle errors on certain Mac and Windows distributions.\u001b[39;00m\n\u001b[1;32m     47\u001b[0m \u001b[39m    :param f:\u001b[39;00m\n\u001b[1;32m     48\u001b[0m \u001b[39m    :return:\u001b[39;00m\n\u001b[1;32m     49\u001b[0m \u001b[39m    \"\"\"\u001b[39;00m\n\u001b[0;32m---> 50\u001b[0m     \u001b[39mwith\u001b[39;00m \u001b[39mopen\u001b[39;49m(f, \u001b[39m\"\u001b[39;49m\u001b[39mrb\u001b[39;49m\u001b[39m\"\u001b[39;49m) \u001b[39mas\u001b[39;00m f_in:\n\u001b[1;32m     51\u001b[0m         \u001b[39m# mmap seems to be much more memory efficient\u001b[39;00m\n\u001b[1;32m     52\u001b[0m         bf \u001b[39m=\u001b[39m mmap\u001b[39m.\u001b[39mmmap(f_in\u001b[39m.\u001b[39mfileno(), \u001b[39m0\u001b[39m, access\u001b[39m=\u001b[39mmmap\u001b[39m.\u001b[39mACCESS_READ)\n\u001b[1;32m     53\u001b[0m         f_in\u001b[39m.\u001b[39mclose()\n",
      "\u001b[0;31mFileNotFoundError\u001b[0m: [Errno 2] No such file or directory: 'en-sentiments'"
     ]
    }
   ],
   "source": [
    "classifier = TextClassifier.load('en-sentiments')\n",
    "def get_sentiment(tweet):\n",
    "    sentence = Sentence(tweet)\n",
    "    classifier.predict(sentence)\n",
    "    return str(sentence.labels[0].split()[0])"
   ]
  },
  {
   "cell_type": "code",
   "execution_count": null,
   "metadata": {},
   "outputs": [
    {
     "ename": "NameError",
     "evalue": "name 'get_sentiments' is not defined",
     "output_type": "error",
     "traceback": [
      "\u001b[0;31m---------------------------------------------------------------------------\u001b[0m",
      "\u001b[0;31mNameError\u001b[0m                                 Traceback (most recent call last)",
      "Cell \u001b[0;32mIn[23], line 1\u001b[0m\n\u001b[0;32m----> 1\u001b[0m get_sentiments(tweet\u001b[39m.\u001b[39mtext)\n",
      "\u001b[0;31mNameError\u001b[0m: name 'get_sentiments' is not defined"
     ]
    }
   ],
   "source": [
    "get_sentiments(tweet.text)"
   ]
  },
  {
   "attachments": {},
   "cell_type": "markdown",
   "metadata": {},
   "source": [
    "## RealTime Tweeter Sentiments"
   ]
  },
  {
   "cell_type": "code",
   "execution_count": null,
   "metadata": {},
   "outputs": [
    {
     "ename": "Forbidden",
     "evalue": "403 Forbidden\nWhen authenticating requests to the Twitter API v2 endpoints, you must use keys and tokens from a Twitter developer App that is attached to a Project. You can create a project via the developer portal.",
     "output_type": "error",
     "traceback": [
      "\u001b[0;31m---------------------------------------------------------------------------\u001b[0m",
      "\u001b[0;31mForbidden\u001b[0m                                 Traceback (most recent call last)",
      "Cell \u001b[0;32mIn[24], line 2\u001b[0m\n\u001b[1;32m      1\u001b[0m \u001b[39mwhile\u001b[39;00m \u001b[39mTrue\u001b[39;00m:\n\u001b[0;32m----> 2\u001b[0m     tweets \u001b[39m=\u001b[39m api\u001b[39m.\u001b[39;49msearch_recent_tweets(\u001b[39m'\u001b[39;49m\u001b[39m#crypto\u001b[39;49m\u001b[39m'\u001b[39;49m)\u001b[39m.\u001b[39mdata\n\u001b[1;32m      4\u001b[0m     \u001b[39mfor\u001b[39;00m tweet \u001b[39min\u001b[39;00m tweets:\n\u001b[1;32m      5\u001b[0m         original_tweet \u001b[39m=\u001b[39m tweet\u001b[39m.\u001b[39mtext\n",
      "File \u001b[0;32m~/anaconda3/lib/python3.10/site-packages/tweepy/client.py:1266\u001b[0m, in \u001b[0;36mClient.search_recent_tweets\u001b[0;34m(self, query, user_auth, **params)\u001b[0m\n\u001b[1;32m   1174\u001b[0m \u001b[39m\u001b[39m\u001b[39m\"\"\"search_recent_tweets( \\\u001b[39;00m\n\u001b[1;32m   1175\u001b[0m \u001b[39m    query, *, end_time=None, expansions=None, max_results=None, \\\u001b[39;00m\n\u001b[1;32m   1176\u001b[0m \u001b[39m    media_fields=None, next_token=None, place_fields=None, \\\u001b[39;00m\n\u001b[0;32m   (...)\u001b[0m\n\u001b[1;32m   1263\u001b[0m \u001b[39m.. _Academic Research Project: https://developer.twitter.com/en/docs/projects\u001b[39;00m\n\u001b[1;32m   1264\u001b[0m \u001b[39m\"\"\"\u001b[39;00m\n\u001b[1;32m   1265\u001b[0m params[\u001b[39m\"\u001b[39m\u001b[39mquery\u001b[39m\u001b[39m\"\u001b[39m] \u001b[39m=\u001b[39m query\n\u001b[0;32m-> 1266\u001b[0m \u001b[39mreturn\u001b[39;00m \u001b[39mself\u001b[39;49m\u001b[39m.\u001b[39;49m_make_request(\n\u001b[1;32m   1267\u001b[0m     \u001b[39m\"\u001b[39;49m\u001b[39mGET\u001b[39;49m\u001b[39m\"\u001b[39;49m, \u001b[39m\"\u001b[39;49m\u001b[39m/2/tweets/search/recent\u001b[39;49m\u001b[39m\"\u001b[39;49m, params\u001b[39m=\u001b[39;49mparams,\n\u001b[1;32m   1268\u001b[0m     endpoint_parameters\u001b[39m=\u001b[39;49m(\n\u001b[1;32m   1269\u001b[0m         \u001b[39m\"\u001b[39;49m\u001b[39mend_time\u001b[39;49m\u001b[39m\"\u001b[39;49m, \u001b[39m\"\u001b[39;49m\u001b[39mexpansions\u001b[39;49m\u001b[39m\"\u001b[39;49m, \u001b[39m\"\u001b[39;49m\u001b[39mmax_results\u001b[39;49m\u001b[39m\"\u001b[39;49m, \u001b[39m\"\u001b[39;49m\u001b[39mmedia.fields\u001b[39;49m\u001b[39m\"\u001b[39;49m,\n\u001b[1;32m   1270\u001b[0m         \u001b[39m\"\u001b[39;49m\u001b[39mnext_token\u001b[39;49m\u001b[39m\"\u001b[39;49m, \u001b[39m\"\u001b[39;49m\u001b[39mplace.fields\u001b[39;49m\u001b[39m\"\u001b[39;49m, \u001b[39m\"\u001b[39;49m\u001b[39mpoll.fields\u001b[39;49m\u001b[39m\"\u001b[39;49m, \u001b[39m\"\u001b[39;49m\u001b[39mquery\u001b[39;49m\u001b[39m\"\u001b[39;49m,\n\u001b[1;32m   1271\u001b[0m         \u001b[39m\"\u001b[39;49m\u001b[39msince_id\u001b[39;49m\u001b[39m\"\u001b[39;49m, \u001b[39m\"\u001b[39;49m\u001b[39msort_order\u001b[39;49m\u001b[39m\"\u001b[39;49m, \u001b[39m\"\u001b[39;49m\u001b[39mstart_time\u001b[39;49m\u001b[39m\"\u001b[39;49m, \u001b[39m\"\u001b[39;49m\u001b[39mtweet.fields\u001b[39;49m\u001b[39m\"\u001b[39;49m,\n\u001b[1;32m   1272\u001b[0m         \u001b[39m\"\u001b[39;49m\u001b[39muntil_id\u001b[39;49m\u001b[39m\"\u001b[39;49m, \u001b[39m\"\u001b[39;49m\u001b[39muser.fields\u001b[39;49m\u001b[39m\"\u001b[39;49m\n\u001b[1;32m   1273\u001b[0m     ), data_type\u001b[39m=\u001b[39;49mTweet, user_auth\u001b[39m=\u001b[39;49muser_auth\n\u001b[1;32m   1274\u001b[0m )\n",
      "File \u001b[0;32m~/anaconda3/lib/python3.10/site-packages/tweepy/client.py:129\u001b[0m, in \u001b[0;36mBaseClient._make_request\u001b[0;34m(self, method, route, params, endpoint_parameters, json, data_type, user_auth)\u001b[0m\n\u001b[1;32m    123\u001b[0m \u001b[39mdef\u001b[39;00m \u001b[39m_make_request\u001b[39m(\n\u001b[1;32m    124\u001b[0m     \u001b[39mself\u001b[39m, method, route, params\u001b[39m=\u001b[39m{}, endpoint_parameters\u001b[39m=\u001b[39m(), json\u001b[39m=\u001b[39m\u001b[39mNone\u001b[39;00m,\n\u001b[1;32m    125\u001b[0m     data_type\u001b[39m=\u001b[39m\u001b[39mNone\u001b[39;00m, user_auth\u001b[39m=\u001b[39m\u001b[39mFalse\u001b[39;00m\n\u001b[1;32m    126\u001b[0m ):\n\u001b[1;32m    127\u001b[0m     request_params \u001b[39m=\u001b[39m \u001b[39mself\u001b[39m\u001b[39m.\u001b[39m_process_params(params, endpoint_parameters)\n\u001b[0;32m--> 129\u001b[0m     response \u001b[39m=\u001b[39m \u001b[39mself\u001b[39;49m\u001b[39m.\u001b[39;49mrequest(method, route, params\u001b[39m=\u001b[39;49mrequest_params,\n\u001b[1;32m    130\u001b[0m                             json\u001b[39m=\u001b[39;49mjson, user_auth\u001b[39m=\u001b[39;49muser_auth)\n\u001b[1;32m    132\u001b[0m     \u001b[39mif\u001b[39;00m \u001b[39mself\u001b[39m\u001b[39m.\u001b[39mreturn_type \u001b[39mis\u001b[39;00m requests\u001b[39m.\u001b[39mResponse:\n\u001b[1;32m    133\u001b[0m         \u001b[39mreturn\u001b[39;00m response\n",
      "File \u001b[0;32m~/anaconda3/lib/python3.10/site-packages/tweepy/client.py:100\u001b[0m, in \u001b[0;36mBaseClient.request\u001b[0;34m(self, method, route, params, json, user_auth)\u001b[0m\n\u001b[1;32m     98\u001b[0m     \u001b[39mraise\u001b[39;00m Unauthorized(response)\n\u001b[1;32m     99\u001b[0m \u001b[39mif\u001b[39;00m response\u001b[39m.\u001b[39mstatus_code \u001b[39m==\u001b[39m \u001b[39m403\u001b[39m:\n\u001b[0;32m--> 100\u001b[0m     \u001b[39mraise\u001b[39;00m Forbidden(response)\n\u001b[1;32m    101\u001b[0m \u001b[39mif\u001b[39;00m response\u001b[39m.\u001b[39mstatus_code \u001b[39m==\u001b[39m \u001b[39m404\u001b[39m:\n\u001b[1;32m    102\u001b[0m     \u001b[39mraise\u001b[39;00m NotFound(response)\n",
      "\u001b[0;31mForbidden\u001b[0m: 403 Forbidden\nWhen authenticating requests to the Twitter API v2 endpoints, you must use keys and tokens from a Twitter developer App that is attached to a Project. You can create a project via the developer portal."
     ]
    }
   ],
   "source": [
    "while True:\n",
    "    tweets = api.search_recent_tweets('#crypto').data\n",
    "    \n",
    "    for tweet in tweets:\n",
    "        original_tweet = tweet.text\n",
    "        clean_tweet = prepeocess_text(original_tweet)\n",
    "        sentiments = get_sentiments(original_tweet)\n",
    "        \n",
    "        \n",
    "        print('--------------------------------')\n",
    "        print(original_tweet)\n",
    "        print('--------------------------------')\n",
    "        print.sleep(1)\n",
    "        print('\\n\\n')"
   ]
  }
 ],
 "metadata": {
  "kernelspec": {
   "display_name": "base",
   "language": "python",
   "name": "python3"
  },
  "language_info": {
   "codemirror_mode": {
    "name": "ipython",
    "version": 3
   },
   "file_extension": ".py",
   "mimetype": "text/x-python",
   "name": "python",
   "nbconvert_exporter": "python",
   "pygments_lexer": "ipython3",
   "version": "3.10.9"
  },
  "orig_nbformat": 4
 },
 "nbformat": 4,
 "nbformat_minor": 2
}
